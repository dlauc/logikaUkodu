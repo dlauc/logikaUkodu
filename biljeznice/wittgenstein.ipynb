{
 "cells": [
  {
   "cell_type": "markdown",
   "metadata": {},
   "source": [
    "# Wittgensteinova logička slika svijeta\n",
    "\n",
    "## Semantička logička posljedica kroz prizmu *Tractatusa*\n",
    "\n",
    "U ovom poglavlju istražujemo koncept **semantičke logičke posljedice** kroz praktičnu Python implementaciju, inspirirani Wittgensteinovim pristupom logici i ontologiji iz *Tractatus Logico-Philosophicus*.\n",
    "\n",
    "> \"Svijet je sve što je slučaj\" (*Die Welt ist alles, was der Fall ist*) - Tractatus, 1\n",
    "\n",
    "Ova slavna prva rečenica *Tractatusa* postavlja temelje za razumijevanje odnosa između jezika, logike i stvarnosti."
   ]
  },
  {
   "cell_type": "markdown",
   "metadata": {},
   "source": [
    "## 1. Atomarne činjenice i elementarni sudovi\n",
    "\n",
    "Za Wittgensteina, svijet se sastoji od **činjenica** (*Tatsachen*), ne stvari:\n",
    "\n",
    "> \"Svijet je totalitet činjenica, ne stvari\" - Tractatus, 1.1\n",
    "\n",
    "**Atomarne činjenice** (*Sachverhalte*) su najjednostavnije činjenice koje mogu postojati ili ne postojati. U logici ih predstavljamo **elementarnim sudovima**."
   ]
  },
  {
   "cell_type": "code",
   "metadata": {
    "ExecuteTime": {
     "end_time": "2025-08-22T20:39:40.713722Z",
     "start_time": "2025-08-22T20:39:40.710141Z"
    }
   },
   "source": [
    "class ElementarniSud:\n",
    "    \"\"\"Predstavlja atomarnu činjenicu u Wittgensteinovom smislu.\"\"\"\n",
    "    \n",
    "    def __init__(self, simbol, opis=\"\"):\n",
    "        self.simbol = simbol\n",
    "        self.opis = opis\n",
    "        self.vrijednost = None\n",
    "    \n",
    "    def __repr__(self):\n",
    "        return f\"{self.simbol}: {self.opis}\"\n",
    "    \n",
    "    def __bool__(self):\n",
    "        return bool(self.vrijednost)\n",
    "\n",
    "# Stvorimo elementarne sudove koji odgovaraju atomarnim činjenicama\n",
    "p = ElementarniSud(\"p\", \"Pada kiša\")\n",
    "q = ElementarniSud(\"q\", \"Ulice su mokre\")\n",
    "r = ElementarniSud(\"r\", \"Nosim kišobran\")\n",
    "\n",
    "print(\"Elementarni sudovi (atomarne činjenice):\")\n",
    "print(f\"  {p}\")\n",
    "print(f\"  {q}\")\n",
    "print(f\"  {r}\")"
   ],
   "outputs": [
    {
     "name": "stdout",
     "output_type": "stream",
     "text": [
      "Elementarni sudovi (atomarne činjenice):\n",
      "  p: Pada kiša\n",
      "  q: Ulice su mokre\n",
      "  r: Nosim kišobran\n"
     ]
    }
   ],
   "execution_count": 1
  },
  {
   "cell_type": "markdown",
   "metadata": {},
   "source": [
    "## 2. Logički prostor i mogući svjetovi\n",
    "\n",
    "Wittgenstein uvodi pojam **logičkog prostora** kao totaliteta svih mogućih konfiguracija atomarnih činjenica:\n",
    "\n",
    "> \"Činjenice u logičkom prostoru jesu svijet\" - Tractatus, 1.13\n",
    "\n",
    "Svaki **mogući svijet** je jedna određena kombinacija postojanja i nepostojanja atomarnih činjenica."
   ]
  },
  {
   "cell_type": "code",
   "metadata": {
    "ExecuteTime": {
     "end_time": "2025-08-22T20:39:45.665118Z",
     "start_time": "2025-08-22T20:39:45.659063Z"
    }
   },
   "source": [
    "import itertools\n",
    "\n",
    "def generiraj_moguce_svjetove(elementarni_sudovi):\n",
    "    \"\"\"Generira sve moguće svjetove kao kombinacije istinitosnih vrijednosti.\"\"\"\n",
    "    svjetovi = []\n",
    "    n = len(elementarni_sudovi)\n",
    "    \n",
    "    for vrijednosti in itertools.product([False, True], repeat=n):\n",
    "        svijet = {}\n",
    "        for sud, vrijednost in zip(elementarni_sudovi, vrijednosti):\n",
    "            svijet[sud.simbol] = vrijednost\n",
    "        svjetovi.append(svijet)\n",
    "    \n",
    "    return svjetovi\n",
    "\n",
    "# Generiraj logički prostor\n",
    "sudovi = [p, q, r]\n",
    "svi_svjetovi = generiraj_moguce_svjetove(sudovi)\n",
    "\n",
    "print(f\"Logički prostor sadrži {len(svi_svjetovi)} mogućih svjetova:\\n\")\n",
    "for i, svijet in enumerate(svi_svjetovi[:4], 1):  # Prikaži prve 4\n",
    "    # Koristi simbole ⊤ i ⊥ umjesto True/False\n",
    "    svijet_prikaz = {k: '⊤' if v else '⊥' for k, v in svijet.items()}\n",
    "    print(f\"Svijet {i}: {svijet_prikaz}\")\n",
    "print(\"...\")"
   ],
   "outputs": [
    {
     "name": "stdout",
     "output_type": "stream",
     "text": [
      "Logički prostor sadrži 8 mogućih svjetova:\n",
      "\n",
      "Svijet 1: {'p': '⊥', 'q': '⊥', 'r': '⊥'}\n",
      "Svijet 2: {'p': '⊥', 'q': '⊥', 'r': '⊤'}\n",
      "Svijet 3: {'p': '⊥', 'q': '⊤', 'r': '⊥'}\n",
      "Svijet 4: {'p': '⊥', 'q': '⊤', 'r': '⊤'}\n",
      "...\n"
     ]
    }
   ],
   "execution_count": 2
  },
  {
   "cell_type": "markdown",
   "metadata": {},
   "source": [
    "## 3. Logički veznici i složeni sudovi\n",
    "\n",
    "Wittgenstein pokazuje kako se složeni sudovi grade iz elementarnih pomoću **istinosno-funkcionalnih veznika**:\n",
    "\n",
    "> \"Sud je istinosna funkcija elementarnih sudova\" - Tractatus, 5\n",
    "\n",
    "Implementirajmo osnovne logičke veznike koristeći Python operatore:"
   ]
  },
  {
   "cell_type": "code",
   "metadata": {
    "ExecuteTime": {
     "end_time": "2025-08-22T20:40:07.460187Z",
     "start_time": "2025-08-22T20:40:07.452323Z"
    }
   },
   "source": [
    "class Sud:\n",
    "    \"\"\"Predstavlja sud koji može biti elementaran ili složen.\"\"\"\n",
    "    \n",
    "    def __init__(self, formula, opis=\"\"):\n",
    "        self.formula = formula\n",
    "        self.opis = opis\n",
    "        self.evaluacija = None\n",
    "    \n",
    "    def evaluiraj(self, svijet):\n",
    "        \"\"\"Evaluira sud u danom mogućem svijetu.\"\"\"\n",
    "        # Ovdje bi trebala biti logika evaluacije\n",
    "        # Za sada vraćamo jednostavnu vrijednost\n",
    "        return self.evaluacija if self.evaluacija is not None else False\n",
    "    \n",
    "    def __repr__(self):\n",
    "        return self.formula\n",
    "\n",
    "# Definiraj funkcije za logičke veznike\n",
    "def negacija(sud):\n",
    "    \"\"\"Negacija: ¬p\"\"\"\n",
    "    return Sud(f\"¬{sud.formula}\", f\"nije slučaj da {sud.opis}\")\n",
    "\n",
    "def konjunkcija(sud1, sud2):\n",
    "    \"\"\"Konjunkcija: p ∧ q\"\"\"\n",
    "    return Sud(f\"({sud1.formula} ∧ {sud2.formula})\", \n",
    "               f\"{sud1.opis} i {sud2.opis}\")\n",
    "\n",
    "def disjunkcija(sud1, sud2):\n",
    "    \"\"\"Disjunkcija: p ∨ q\"\"\"\n",
    "    return Sud(f\"({sud1.formula} ∨ {sud2.formula})\", \n",
    "               f\"{sud1.opis} ili {sud2.opis}\")\n",
    "\n",
    "def implikacija(sud1, sud2):\n",
    "    \"\"\"Materijalna implikacija: p → q\"\"\"\n",
    "    return Sud(f\"({sud1.formula} → {sud2.formula})\", \n",
    "               f\"ako {sud1.opis}, onda {sud2.opis}\")\n",
    "\n",
    "# Primjeri složenih sudova\n",
    "p_sud = Sud(\"p\", \"pada kiša\")\n",
    "q_sud = Sud(\"q\", \"ulice su mokre\")\n",
    "\n",
    "složeni1 = implikacija(p_sud, q_sud)\n",
    "složeni2 = konjunkcija(p_sud, negacija(q_sud))\n",
    "\n",
    "print(\"Složeni sudovi:\")\n",
    "print(f\"  {složeni1}: {složeni1.opis}\")\n",
    "print(f\"  {složeni2}: {složeni2.opis}\")"
   ],
   "outputs": [
    {
     "name": "stdout",
     "output_type": "stream",
     "text": [
      "Složeni sudovi:\n",
      "  (p → q): ako pada kiša, onda ulice su mokre\n",
      "  (p ∧ ¬q): pada kiša i nije slučaj da ulice su mokre\n"
     ]
    }
   ],
   "execution_count": 3
  },
  {
   "cell_type": "markdown",
   "metadata": {},
   "source": [
    "## 4. Semantička logička posljedica\n",
    "\n",
    "Ključni koncept u logici je **logička posljedica** (semantička implikacija). Kažemo da je sud $\\varphi$ logička posljedica skupa sudova $\\Gamma$, što zapisujemo:\n",
    "\n",
    "$$\\Gamma \\models \\varphi$$\n",
    "\n",
    "ako i samo ako u **svakom mogućem svijetu** gdje su svi sudovi iz $\\Gamma$ istiniti, $\\varphi$ je također istinit.\n",
    "\n",
    "Za Wittgensteina, logička posljedica pokazuje strukturalni odnos između sudova:\n",
    "\n",
    "> \"Kada istinitost jednog suda slijedi iz istinitosti drugih, to vidimo iz strukture samih sudova\" - Tractatus, 5.13"
   ]
  },
  {
   "cell_type": "code",
   "metadata": {
    "ExecuteTime": {
     "end_time": "2025-08-22T20:40:45.814550Z",
     "start_time": "2025-08-22T20:40:45.808322Z"
    }
   },
   "source": [
    "def je_logicka_posljedica(premisa, zakljucak, elementarni):\n",
    "    \"\"\"\n",
    "    Provjerava je li zaključak logička posljedica premise.\n",
    "    \n",
    "    Args:\n",
    "        premisa: funkcija koja evaluira premisu\n",
    "        zakljucak: funkcija koja evaluira zaključak\n",
    "        elementarni: lista elementarnih sudova\n",
    "    \n",
    "    Returns:\n",
    "        (bool, protuprimjer ili None)\n",
    "    \"\"\"\n",
    "    for vrijednosti in itertools.product([False, True], repeat=len(elementarni)):\n",
    "        # Postavi vrijednosti elementarnih sudova\n",
    "        svijet = dict(zip(elementarni, vrijednosti))\n",
    "        \n",
    "        # Evaluiraj premisu i zaključak\n",
    "        p_istina = premisa(svijet)\n",
    "        z_istina = zakljucak(svijet)\n",
    "        \n",
    "        # Ako premisa istinita a zaključak lažan - nije logička posljedica\n",
    "        if p_istina and not z_istina:\n",
    "            return False, svijet\n",
    "    \n",
    "    return True, None\n",
    "\n",
    "# Definiraj jednostavne evaluacijske funkcije\n",
    "def p_eval(svijet):\n",
    "    return svijet.get('p', False)\n",
    "\n",
    "def p_imp_q(svijet):\n",
    "    p = svijet.get('p', False)\n",
    "    q = svijet.get('q', False)\n",
    "    return not p or q  # p → q ⇔ ¬p ∨ q\n",
    "\n",
    "def q_eval(svijet):\n",
    "    return svijet.get('q', False)\n",
    "\n",
    "# Test: Je li q logička posljedica od (p → q) ∧ p? (Modus Ponens)\n",
    "def modus_ponens_premisa(svijet):\n",
    "    return p_imp_q(svijet) and p_eval(svijet)\n",
    "\n",
    "rezultat, protuprimjer = je_logicka_posljedica(\n",
    "    modus_ponens_premisa, \n",
    "    q_eval, \n",
    "    ['p', 'q']\n",
    ")\n",
    "\n",
    "print(\"Test Modus Ponens: ((p → q) ∧ p) ⊨ q\")\n",
    "if rezultat:\n",
    "    print(\"  ✓ JEST logička posljedica\")\n",
    "else:\n",
    "    print(f\"  ✗ NIJE logička posljedica. Protuprimjer: {protuprimjer}\")"
   ],
   "outputs": [
    {
     "name": "stdout",
     "output_type": "stream",
     "text": [
      "Test Modus Ponens: ((p → q) ∧ p) ⊨ q\n",
      "  ✓ JEST logička posljedica\n"
     ]
    }
   ],
   "execution_count": 4
  },
  {
   "cell_type": "markdown",
   "metadata": {},
   "source": [
    "## 5. Tautologije i kontradikcije\n",
    "\n",
    "Wittgenstein ističe poseban status **tautologija** i **kontradikcija**:\n",
    "\n",
    "> \"Tautologija i kontradikcija nisu slike stvarnosti. One ne predstavljaju nikakvu moguću situaciju\" - Tractatus, 4.462\n",
    "\n",
    "- **Tautologija**: istinita u svim mogućim svjetovima (npr. $p \\vee \\neg p$)\n",
    "- **Kontradikcija**: lažna u svim mogućim svjetovima (npr. $p \\wedge \\neg p$)\n",
    "\n",
    "One pokazuju granice logičkog prostora:"
   ]
  },
  {
   "cell_type": "code",
   "metadata": {
    "ExecuteTime": {
     "end_time": "2025-08-22T20:41:50.483916Z",
     "start_time": "2025-08-22T20:41:50.469552Z"
    }
   },
   "source": [
    "def provjeri_status(formula_eval, elementarni):\n",
    "    \"\"\"Provjerava je li formula tautologija, kontradikcija ili kontingentna.\"\"\"\n",
    "    istiniti = 0\n",
    "    ukupno = 0\n",
    "    \n",
    "    for vrijednosti in itertools.product([False, True], repeat=len(elementarni)):\n",
    "        svijet = dict(zip(elementarni, vrijednosti))\n",
    "        if formula_eval(svijet):\n",
    "            istiniti += 1\n",
    "        ukupno += 1\n",
    "    \n",
    "    if istiniti == ukupno:\n",
    "        return \"TAUTOLOGIJA\"\n",
    "    elif istiniti == 0:\n",
    "        return \"KONTRADIKCIJA\"\n",
    "    else:\n",
    "        return f\"KONTINGENTNA ({istiniti}/{ukupno} svjetova)\"\n",
    "\n",
    "# Testiraj različite formule\n",
    "def tautologija(svijet):\n",
    "    p = svijet.get('p', False)\n",
    "    return p or not p  # p ∨ ¬p\n",
    "\n",
    "def kontradikcija(svijet):\n",
    "    p = svijet.get('p', False)\n",
    "    return p and not p  # p ∧ ¬p\n",
    "\n",
    "def kontingentna(svijet):\n",
    "    return svijet.get('p', False)  # samo p\n",
    "\n",
    "print(\"Status formula u logičkom prostoru:\\n\")\n",
    "print(f\"p ∨ ¬p: {provjeri_status(tautologija, ['p'])}\")\n",
    "print(f\"p ∧ ¬p: {provjeri_status(kontradikcija, ['p'])}\")\n",
    "print(f\"p: {provjeri_status(kontingentna, ['p'])}\")"
   ],
   "outputs": [
    {
     "name": "stdout",
     "output_type": "stream",
     "text": [
      "Status formula u logičkom prostoru:\n",
      "\n",
      "p ∨ ¬p: TAUTOLOGIJA\n",
      "p ∧ ¬p: KONTRADIKCIJA\n",
      "p: KONTINGENTNA (1/2 svjetova)\n"
     ]
    }
   ],
   "execution_count": 5
  },
  {
   "cell_type": "markdown",
   "metadata": {},
   "source": [
    "## 6. Tablični prikaz logičkih posljedica\n",
    "\n",
    "Vizualizirajmo logičke posljedice pomoću **tablica istinitosti**, što odgovara Wittgensteinovoj metodi iz *Tractatusa*:"
   ]
  },
  {
   "cell_type": "code",
   "metadata": {
    "ExecuteTime": {
     "end_time": "2025-08-22T20:42:00.016033Z",
     "start_time": "2025-08-22T20:42:00.004266Z"
    }
   },
   "source": [
    "def tablica_istinitosti(premise, zakljucak, varijable):\n",
    "    \"\"\"Generira tablicu istinitosti za provjeru logičke posljedice.\"\"\"\n",
    "    print(\"\\nTablica istinitosti:\")\n",
    "    print(\"=\" * 60)\n",
    "    \n",
    "    # Zaglavlje\n",
    "    header = \" | \".join(varijable) + \" | Premisa | Zaključak | Status\"\n",
    "    print(header)\n",
    "    print(\"-\" * len(header))\n",
    "    \n",
    "    je_posljedica = True\n",
    "    \n",
    "    for vrijednosti in itertools.product([\" ⊥ \", \" ⊤ \"], repeat=len(varijable)):\n",
    "        svijet = {var: (val.strip() == \"⊤\") for var, val in zip(varijable, vrijednosti)}\n",
    "        \n",
    "        p_val = premise(svijet)\n",
    "        z_val = zakljucak(svijet)\n",
    "        \n",
    "        # Provjeri je li narušena logička posljedica\n",
    "        status = \"\"\n",
    "        if p_val and not z_val:\n",
    "            status = \"<-- PROTUPRIMJER\"\n",
    "            je_posljedica = False\n",
    "        \n",
    "        # Ispis reda\n",
    "        row = \" | \".join(vrijednosti)\n",
    "        row += f\" |    {'⊤' if p_val else '⊥'}    |     {'⊤' if z_val else '⊥'}     | {status}\"\n",
    "        print(row)\n",
    "    \n",
    "    print(\"=\" * 60)\n",
    "    if je_posljedica:\n",
    "        print(\"\\n✓ Zaključak JEST logička posljedica premise\")\n",
    "    else:\n",
    "        print(\"\\n✗ Zaključak NIJE logička posljedica premise\")\n",
    "    \n",
    "    return je_posljedica\n",
    "\n",
    "# Test klasičnih logičkih zakona\n",
    "print(\"\\nMODUS PONENS: ((p → q) ∧ p) ⊨ q\")\n",
    "tablica_istinitosti(modus_ponens_premisa, q_eval, ['p', 'q'])\n",
    "\n",
    "# Test disjunktivnog silogizma\n",
    "def disj_silogizam_premisa(svijet):\n",
    "    p = svijet.get('p', False)\n",
    "    q = svijet.get('q', False)\n",
    "    return (p or q) and not p\n",
    "\n",
    "print(\"\\nDISJUNKTIVNI SILOGIZAM: ((p ∨ q) ∧ ¬p) ⊨ q\")\n",
    "tablica_istinitosti(disj_silogizam_premisa, q_eval, ['p', 'q'])"
   ],
   "outputs": [
    {
     "name": "stdout",
     "output_type": "stream",
     "text": [
      "\n",
      "MODUS PONENS: ((p → q) ∧ p) ⊨ q\n",
      "\n",
      "Tablica istinitosti:\n",
      "============================================================\n",
      "p | q | Premisa | Zaključak | Status\n",
      "------------------------------------\n",
      " ⊥  |  ⊥  |    ⊥    |     ⊥     | \n",
      " ⊥  |  ⊤  |    ⊥    |     ⊤     | \n",
      " ⊤  |  ⊥  |    ⊥    |     ⊥     | \n",
      " ⊤  |  ⊤  |    ⊤    |     ⊤     | \n",
      "============================================================\n",
      "\n",
      "✓ Zaključak JEST logička posljedica premise\n",
      "\n",
      "DISJUNKTIVNI SILOGIZAM: ((p ∨ q) ∧ ¬p) ⊨ q\n",
      "\n",
      "Tablica istinitosti:\n",
      "============================================================\n",
      "p | q | Premisa | Zaključak | Status\n",
      "------------------------------------\n",
      " ⊥  |  ⊥  |    ⊥    |     ⊥     | \n",
      " ⊥  |  ⊤  |    ⊤    |     ⊤     | \n",
      " ⊤  |  ⊥  |    ⊥    |     ⊥     | \n",
      " ⊤  |  ⊤  |    ⊥    |     ⊤     | \n",
      "============================================================\n",
      "\n",
      "✓ Zaključak JEST logička posljedica premise\n"
     ]
    },
    {
     "data": {
      "text/plain": [
       "True"
      ]
     },
     "execution_count": 6,
     "metadata": {},
     "output_type": "execute_result"
    }
   ],
   "execution_count": 6
  },
  {
   "cell_type": "markdown",
   "metadata": {},
   "source": [
    "## 7. Filozofske implikacije\n",
    "\n",
    "### Granice jezika i logike\n",
    "\n",
    "Wittgenstein pokazuje da logika ima svoje granice:\n",
    "\n",
    "> \"Logika ispunjava svijet; granice svijeta su također njezine granice\" - Tractatus, 5.61\n",
    "\n",
    "Naša implementacija demonstrira ove granice:\n",
    "- **Tautologije** ne govore ništa o svijetu (istinite su uvijek)\n",
    "- **Kontradikcije** opisuju nemogućnosti\n",
    "- Samo **kontingentne formule** zapravo opisuju moguća stanja svijeta\n",
    "\n",
    "### Slikovna teorija značenja\n",
    "\n",
    "Prema Wittgensteinu, sudovi su **slike mogućih stanja stvari**:\n",
    "\n",
    "> \"Logička slika činjenica jest misao\" - Tractatus, 3\n",
    "\n",
    "Naš kod modelira ovu ideju:\n",
    "- Elementarni sudovi = atomarne činjenice\n",
    "- Složeni sudovi = kombinacije atomarnih činjenica\n",
    "- Mogući svjetovi = sve moguće konfiguracije"
   ]
  },
  {
   "cell_type": "markdown",
   "metadata": {},
   "source": [
    "## 8. Praktična primjena: Logičko zaključivanje\n",
    "\n",
    "Implementirajmo jednostavan sustav za automatsko logičko zaključivanje:"
   ]
  },
  {
   "cell_type": "code",
   "execution_count": 7,
   "metadata": {},
   "outputs": [],
   "source": [
    "class LogickiSustav:\n",
    "    \"\"\"Jednostavan sustav za logičko zaključivanje.\"\"\"\n",
    "    \n",
    "    def __init__(self):\n",
    "        self.baza_znanja = []\n",
    "        self.elementarni = set()\n",
    "    \n",
    "    def dodaj_premisu(self, formula, varijable):\n",
    "        \"\"\"Dodaje premisu u bazu znanja.\"\"\"\n",
    "        self.baza_znanja.append(formula)\n",
    "        self.elementarni.update(varijable)\n",
    "    \n",
    "    def moze_zakljuciti(self, zakljucak):\n",
    "        \"\"\"Provjerava slijedi li zaključak iz baze znanja.\"\"\"\n",
    "        \n",
    "        def premise_eval(svijet):\n",
    "            # Sve premise moraju biti istinite\n",
    "            for premisa in self.baza_znanja:\n",
    "                if not premisa(svijet):\n",
    "                    return False\n",
    "            return True\n",
    "        \n",
    "        # Provjeri sve moguće svjetove\n",
    "        for vrijednosti in itertools.product([False, True], \n",
    "                                            repeat=len(self.elementarni)):\n",
    "            svijet = dict(zip(list(self.elementarni), vrijednosti))\n",
    "            \n",
    "            if premise_eval(svijet) and not zakljucak(svijet):\n",
    "                return False, svijet  # Našli protuprimjer\n",
    "        \n",
    "        return True, None\n",
    "\n",
    "# Primjer korištenja\n",
    "sustav = LogickiSustav()\n",
    "\n",
    "# Dodaj premise\n",
    "def ako_kisa_mokro(svijet):\n",
    "    return not svijet.get('kiša', False) or svijet.get('mokro', False)\n",
    "\n",
    "def kisa_pada(svijet):\n",
    "    return svijet.get('kiša', False)\n",
    "\n",
    "sustav.dodaj_premisu(ako_kisa_mokro, ['kiša', 'mokro'])\n",
    "sustav.dodaj_premisu(kisa_pada, ['kiša'])\n",
    "\n",
    "# Testiraj zaključke\n",
    "def ulice_mokre(svijet):\n",
    "    return svijet.get('mokro', False)\n",
    "\n",
    "rezultat, protuprimjer = sustav.moze_zakljuciti(ulice_mokre)\n",
    "\n",
    "print(\"Baza znanja:\")\n",
    "print(\"  1. Ako pada kiša, ulice su mokre\")\n",
    "print(\"  2. Pada kiša\")\n",
    "print(\"\\nZaključak: Ulice su mokre\")\n",
    "print(f\"\\nRezultat: {'✓ Logički slijedi' if rezultat else '✗ Ne slijedi'}\")"
   ]
  },
  {
   "cell_type": "markdown",
   "metadata": {},
   "source": [
    "## 9. Zadaci i prijedlozi za daljnje istraživanje\n",
    "\n",
    "Za produbljivanje razumijevanja semantičke logičke posljedice i Wittgensteinove filozofije, predlažemo sljedeće istraživačke teme prikladne za dodiplomske studente:\n",
    "\n",
    "## 9. Prijedlozi za daljnje istraživanje\n",
    "\n",
    "Za produbljivanje razumijevanja semantičke logičke posljedice kroz praktične Python zadatke, predlažemo sljedeće vježbe prikladne za studente koji uče osnove logike sudova:\n",
    "\n",
    "### 1. **Proširenje skupa logičkih veznika**\n",
    "Implementirajte funkcije za dodatne logičke veznike: ekskluzivnu disjunkciju (XOR), Shefferovu crticu (NAND) i Pierceovu strelicu (NOR). Pokažite da su NAND i NOR funkcionalno potpuni - da pomoću njih možete izraziti sve ostale veznike.\n",
    "\n",
    "### 2. **Automatska generacija tablica istinitosti**\n",
    "Napišite funkciju koja prima proizvoljan logički izraz kao string (npr. \"(p → q) ∧ (q → r)\") i automatski generira njegovu tablicu istinitosti. Koristite Python `eval()` funkciju uz sigurnosne provjere.\n",
    "\n",
    "### 3. **Prepoznavanje tautologija**\n",
    "Stvorite funkciju koja provjerava je li dana formula tautologija bez generiranja cijele tablice istinitosti - zaustavite čim nađete protuprimjer. Testirajte na klasičnim zakonima: De Morganovim zakonima, zakonu distribucije, zakonu kontrapozicije.\n",
    "\n",
    "### 4. **Normalne forme**\n",
    "Implementirajte pretvorbu formula u konjunktivnu (KNF) i disjunktivnu (DNF) normalnu formu. Za danu tablicu istinitosti generirajte minimalnu formulu koja je opisuje.\n",
    "\n",
    "### 5. **Provjera ekvivalencije**\n",
    "Napišite funkciju koja provjerava jesu li dvije formule logički ekvivalentne. Testirajte s primjerima poput: je li (p → q) ekvivalentno s (¬p ∨ q)? Je li (p → (q → r)) ekvivalentno s ((p ∧ q) → r)?\n",
    "\n",
    "### 6. **Broj mogućih formula**\n",
    "Za n propozicijskih varijabli, koliko različitih (neekvivalentnih) formula možete stvoriti? Napišite program koji generira sve moguće tablice istinitosti za 2 i 3 varijable i broji koliko ih je jedinstvenih.\n",
    "\n",
    "### 7. **Vizualizacija logičkih odnosa**\n",
    "Koristeći matplotlib, nacrtajte graf gdje čvorovi predstavljaju moguće svjetove, a bridovi povezuju svjetove koji se razlikuju u točno jednoj atomarnoj činjenici. Obojite svjetove gdje je vaša formula istinita.\n",
    "\n",
    "### 8. **Minimalni skup premisa**\n",
    "Za dani zaključak i skup premisa, pronađite minimalni podskup premisa iz kojeg zaključak još uvijek slijedi. Na primjer, ako imate premise {p, p→q, q→r, p→r}, koji je minimalni skup za zaključak r?\n",
    "\n",
    "### 9. **Interaktivni dokazivač**\n",
    "Stvorite jednostavnu interaktivnu aplikaciju gdje korisnik može graditi dokaz korak po korak koristeći osnovna pravila (modus ponens, modus tollens, disjunktivni silogizam). Program provjerava valjanost svakog koraka.\n",
    "\n",
    "### 10. **Analiza složenosti formula**\n",
    "Napišite funkcije koje mjere \"složenost\" formule: broj veznika, dubinu ugniježđenja, broj različitih varijabli. Istražite odnos između složenosti formule i broja redaka u njenoj minimalnoj DNF reprezentaciji.\n",
    "\n",
    "Svaki zadatak postupno gradi razumijevanje ključnih koncepata semantičke logičke posljedice kroz praktično programiranje, omogućavajući studentima da eksperimentiraju s logičkim strukturama i razviju intuiciju za formalno zaključivanje.\n"
   ]
  },
  {
   "cell_type": "markdown",
   "metadata": {},
   "source": [
    "## Zaključak\n",
    "\n",
    "Kroz ovu implementaciju istražili smo temeljne koncepte semantičke logičke posljedice inspirirani Wittgensteinovom filozofijom:\n",
    "\n",
    "1. **Atomarne činjenice** kao građevni blokovi stvarnosti\n",
    "2. **Logički prostor** kao totalitet mogućih svjetova\n",
    "3. **Logička posljedica** kao odnos koji vrijedi u svim mogućim svjetovima\n",
    "4. **Granice logike** pokazane kroz tautologije i kontradikcije\n",
    "\n",
    "Wittgensteinov zaključak *Tractatusa* podsjeća nas:\n",
    "\n",
    "> \"O čemu se ne može govoriti, o tome se mora šutjeti\" - Tractatus, 7\n",
    "\n",
    "Logika može opisati strukturu mogućih svjetova, ali sama ta sposobnost počiva na meta-logičkim osnovama koje se ne mogu izraziti unutar sustava. Naš Python kod demonstrira ovu granicu - možemo implementirati logiku, ali pitanje zašto logika funkcionira ostaje izvan dosega same logike.\n",
    "\n",
    "Kroz praktično programiranje otkrivamo da je razumijevanje logičke posljedice ključno ne samo za filozofiju jezika i logike, već i za moderna područja poput verifikacije softvera, umjetne inteligencije i automatskog zaključivanja."
   ]
  }
 ],
 "metadata": {
  "kernelspec": {
   "display_name": "Python 3",
   "language": "python",
   "name": "python3"
  },
  "language_info": {
   "codemirror_mode": {
    "name": "ipython",
    "version": 3
   },
   "file_extension": ".py",
   "mimetype": "text/x-python",
   "name": "python",
   "nbconvert_exporter": "python",
   "pygments_lexer": "ipython3",
   "version": "3.8.0"
  }
 },
 "nbformat": 4,
 "nbformat_minor": 4
}
